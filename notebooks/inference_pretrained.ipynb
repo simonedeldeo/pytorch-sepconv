{
  "nbformat": 4,
  "nbformat_minor": 0,
  "metadata": {
    "colab": {
      "name": "01. SepConv.ipynb",
      "provenance": [],
      "collapsed_sections": []
    },
    "kernelspec": {
      "name": "python3",
      "display_name": "Python 3"
    },
    "accelerator": "GPU"
  },
  "cells": [
    {
      "cell_type": "code",
      "metadata": {
        "id": "xofC2N6Ehdk-",
        "colab_type": "code",
        "outputId": "dd05a7d2-f593-4d01-a4b2-e704ad7afdde",
        "colab": {
          "base_uri": "https://localhost:8080/",
          "height": 122
        }
      },
      "source": [
        "# mount drive, to use the uploaded dataset\n",
        "\n",
        "from google.colab import drive\n",
        "drive.mount('/content/drive')"
      ],
      "execution_count": 1,
      "outputs": [
        {
          "output_type": "stream",
          "text": [
            "Go to this URL in a browser: https://accounts.google.com/o/oauth2/auth?client_id=947318989803-6bn6qk8qdgf4n4g3pfee6491hc0brc4i.apps.googleusercontent.com&redirect_uri=urn%3aietf%3awg%3aoauth%3a2.0%3aoob&response_type=code&scope=email%20https%3a%2f%2fwww.googleapis.com%2fauth%2fdocs.test%20https%3a%2f%2fwww.googleapis.com%2fauth%2fdrive%20https%3a%2f%2fwww.googleapis.com%2fauth%2fdrive.photos.readonly%20https%3a%2f%2fwww.googleapis.com%2fauth%2fpeopleapi.readonly\n",
            "\n",
            "Enter your authorization code:\n",
            "··········\n",
            "Mounted at /content/drive\n"
          ],
          "name": "stdout"
        }
      ]
    },
    {
      "cell_type": "code",
      "metadata": {
        "id": "W9WR4ilaK9us",
        "colab_type": "code",
        "colab": {}
      },
      "source": [
        "# install dependencies\n",
        "\n",
        "%%capture\n",
        "!pip install cupy-cuda100"
      ],
      "execution_count": 0,
      "outputs": []
    },
    {
      "cell_type": "code",
      "metadata": {
        "id": "vn5uc9sidPMm",
        "colab_type": "code",
        "outputId": "5d73dd9d-c29d-469f-f572-c2bc7b24fbc6",
        "colab": {
          "base_uri": "https://localhost:8080/",
          "height": 153
        }
      },
      "source": [
        "# clone code\n",
        "\n",
        "!git clone https://github.com/simonedeldeo/pytorch-sepconv.git\n",
        "%cd pytorch-sepconv"
      ],
      "execution_count": 3,
      "outputs": [
        {
          "output_type": "stream",
          "text": [
            "Cloning into 'pytorch-sepconv'...\n",
            "remote: Enumerating objects: 8, done.\u001b[K\n",
            "remote: Counting objects:  12% (1/8)\u001b[K\rremote: Counting objects:  25% (2/8)\u001b[K\rremote: Counting objects:  37% (3/8)\u001b[K\rremote: Counting objects:  50% (4/8)\u001b[K\rremote: Counting objects:  62% (5/8)\u001b[K\rremote: Counting objects:  75% (6/8)\u001b[K\rremote: Counting objects:  87% (7/8)\u001b[K\rremote: Counting objects: 100% (8/8)\u001b[K\rremote: Counting objects: 100% (8/8), done.\u001b[K\n",
            "remote: Compressing objects: 100% (7/7), done.\u001b[K\n",
            "remote: Total 219 (delta 1), reused 3 (delta 1), pack-reused 211\u001b[K\n",
            "Receiving objects: 100% (219/219), 14.54 MiB | 7.75 MiB/s, done.\n",
            "Resolving deltas: 100% (65/65), done.\n",
            "/content/pytorch-sepconv\n"
          ],
          "name": "stdout"
        }
      ]
    },
    {
      "cell_type": "code",
      "metadata": {
        "id": "IYBfJbl7oD0P",
        "colab_type": "code",
        "colab": {}
      },
      "source": [
        "# get dataset\n",
        "\n",
        "%%capture\n",
        "!rm -rf val\n",
        "!cp '/content/drive/My Drive/__progetto int sys/data/val - Star360.zip' '/content/pytorch-sepconv'\n",
        "!mkdir val\n",
        "!unzip 'val - Star360.zip' -d val"
      ],
      "execution_count": 0,
      "outputs": []
    },
    {
      "cell_type": "code",
      "metadata": {
        "id": "Mpi2iLbBjtmn",
        "colab_type": "code",
        "colab": {}
      },
      "source": [
        "# preprocess dataset\n",
        "\n",
        "import os\n",
        "\n",
        "basepath = '/content/pytorch-sepconv/val'\n",
        "sub_f = os.listdir(basepath)\n",
        "sub_f.sort()\n",
        "for s in sub_f:\n",
        "  path = os.path.join(basepath, s)\n",
        "  os.rename(os.path.join(path, '0.jpg'), os.path.join(path, 'frame0.jpg'))\n",
        "  os.rename(os.path.join(path, '1.jpg'), os.path.join(path, 'frame1.jpg'))\n",
        "  os.rename(os.path.join(path, '2.jpg'), os.path.join(path, 'frame2.jpg'))"
      ],
      "execution_count": 0,
      "outputs": []
    },
    {
      "cell_type": "code",
      "metadata": {
        "id": "BL_JADE5LHfQ",
        "colab_type": "code",
        "colab": {
          "base_uri": "https://localhost:8080/",
          "height": 204
        },
        "outputId": "bd6c9c4f-4ecd-43e3-a72f-865374a1e241"
      },
      "source": [
        "# get pretrained model\n",
        "\n",
        "!wget --timestamping http://content.sniklaus.com/sepconv/network-l1.pytorch\n",
        "\n",
        "import torch\n",
        "from collections import OrderedDict\n",
        "\n",
        "state_dict = torch.load('network-l1.pytorch')\n",
        "\n",
        "new_state_dict = OrderedDict()\n",
        "for k, v in state_dict.items():\n",
        "  name = 'get_kernel.' + k\n",
        "  new_state_dict[name] = v\n",
        "\n",
        "torch.save(new_state_dict, 'l1-mod.pytorch')"
      ],
      "execution_count": 6,
      "outputs": [
        {
          "output_type": "stream",
          "text": [
            "--2020-02-22 14:18:42--  http://content.sniklaus.com/sepconv/network-l1.pytorch\n",
            "Resolving content.sniklaus.com (content.sniklaus.com)... 51.15.58.24\n",
            "Connecting to content.sniklaus.com (content.sniklaus.com)|51.15.58.24|:80... connected.\n",
            "HTTP request sent, awaiting response... 200 OK\n",
            "Length: 86713338 (83M) [application/octet-stream]\n",
            "Saving to: ‘network-l1.pytorch’\n",
            "\n",
            "network-l1.pytorch  100%[===================>]  82.70M  10.4MB/s    in 9.8s    \n",
            "\n",
            "2020-02-22 14:18:53 (8.45 MB/s) - ‘network-l1.pytorch’ saved [86713338/86713338]\n",
            "\n"
          ],
          "name": "stdout"
        }
      ]
    },
    {
      "cell_type": "code",
      "metadata": {
        "id": "tpegNDuui6h-",
        "colab_type": "code",
        "colab": {}
      },
      "source": [
        "# generate interpolated images\n",
        "\n",
        "%%capture\n",
        "!python test.py --input ./val --gt ./val --output ./out --checkpoint ./l1-mod.pytorch"
      ],
      "execution_count": 0,
      "outputs": []
    },
    {
      "cell_type": "code",
      "metadata": {
        "id": "-MBeQRpqLRXn",
        "colab_type": "code",
        "colab": {
          "base_uri": "https://localhost:8080/",
          "height": 139
        },
        "outputId": "a6507a94-ef8b-42be-b399-fa368f1c58f5"
      },
      "source": [
        "# get stats\n",
        "\n",
        "import PIL\n",
        "import PIL.Image\n",
        "import skimage\n",
        "import skimage.measure\n",
        "import numpy\n",
        "import math\n",
        "import os\n",
        "\n",
        "gt = '/frame1.jpg'\n",
        "interp = '/output.png'\n",
        "\n",
        "basepath1 = './val/'\n",
        "basepath2 = './out/'\n",
        "sub_f = os.listdir(basepath1)\n",
        "sub_f.sort()\n",
        "dblPsnr = []\n",
        "dblSsim = []\n",
        "dblIE = []\n",
        "for s in sub_f:\n",
        "  path1 = os.path.join(basepath1, s)\n",
        "  path2 = os.path.join(basepath2, s)\n",
        "  dblPsnr.append(skimage.measure.compare_psnr(im_true=numpy.array(PIL.Image.open(path1 + gt))[:, :, ::-1], im_test=numpy.array(PIL.Image.open(path2 + interp))[:, :, ::-1], data_range=255))\n",
        "  dblSsim.append(skimage.measure.compare_ssim(X=numpy.array(PIL.Image.open(path1 + gt))[:, :, ::-1], Y=numpy.array(PIL.Image.open(path2 + interp))[:, :, ::-1], data_range=255, multichannel=True))\n",
        "  dblIE.append(math.sqrt(skimage.measure.compare_mse(numpy.array(PIL.Image.open(path1 + gt))[:, :, ::-1], numpy.array(PIL.Image.open(path2 + interp))[:, :, ::-1])))\n",
        "\n",
        "print('computed average psnr', numpy.mean(dblPsnr))\n",
        "print('computed average ssim', numpy.mean(dblSsim))\n",
        "print('computed average ie', numpy.mean(dblIE))"
      ],
      "execution_count": 8,
      "outputs": [
        {
          "output_type": "stream",
          "text": [
            "/usr/local/lib/python3.6/dist-packages/ipykernel_launcher.py:23: UserWarning: DEPRECATED: skimage.measure.compare_psnr has been moved to skimage.metrics.peak_signal_noise_ratio. It will be removed from skimage.measure in version 0.18.\n",
            "/usr/local/lib/python3.6/dist-packages/ipykernel_launcher.py:24: UserWarning: DEPRECATED: skimage.measure.compare_ssim has been moved to skimage.metrics.structural_similarity. It will be removed from skimage.measure in version 0.18.\n",
            "/usr/local/lib/python3.6/dist-packages/ipykernel_launcher.py:25: UserWarning: DEPRECATED: skimage.measure.compare_mse has been moved to skimage.metrics.mean_squared_error. It will be removed from skimage.measure in version 0.18.\n"
          ],
          "name": "stderr"
        },
        {
          "output_type": "stream",
          "text": [
            "computed average psnr 27.144348518648993\n",
            "computed average ssim 0.9152674982777651\n",
            "computed average ie 14.606128056392144\n"
          ],
          "name": "stdout"
        }
      ]
    }
  ]
}